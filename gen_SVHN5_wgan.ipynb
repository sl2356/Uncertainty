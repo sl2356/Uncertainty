{
 "cells": [
  {
   "cell_type": "markdown",
   "metadata": {
    "id": "0exbohiky30o"
   },
   "source": [
    "#  Uncertainty-Aware Generative Evidential Networks"
   ]
  },
  {
   "cell_type": "code",
   "execution_count": 1,
   "metadata": {
    "colab": {
     "base_uri": "https://localhost:8080/"
    },
    "executionInfo": {
     "elapsed": 5221,
     "status": "ok",
     "timestamp": 1646448398871,
     "user": {
      "displayName": "Kogen Wang",
      "photoUrl": "https://lh3.googleusercontent.com/a/default-user=s64",
      "userId": "17521043859480564834"
     },
     "user_tz": -480
    },
    "id": "HnAMTUIzy30t",
    "outputId": "eb656a7f-ade1-4508-af86-2ac6868b8e18"
   },
   "outputs": [
    {
     "name": "stderr",
     "output_type": "stream",
     "text": [
      "C:\\Users\\A601\\AppData\\Roaming\\Python\\Python37\\site-packages\\tensorflow\\python\\framework\\dtypes.py:516: FutureWarning: Passing (type, 1) or '1type' as a synonym of type is deprecated; in a future version of numpy, it will be understood as (type, (1,)) / '(1,)type'.\n",
      "  _np_qint8 = np.dtype([(\"qint8\", np.int8, 1)])\n",
      "C:\\Users\\A601\\AppData\\Roaming\\Python\\Python37\\site-packages\\tensorflow\\python\\framework\\dtypes.py:517: FutureWarning: Passing (type, 1) or '1type' as a synonym of type is deprecated; in a future version of numpy, it will be understood as (type, (1,)) / '(1,)type'.\n",
      "  _np_quint8 = np.dtype([(\"quint8\", np.uint8, 1)])\n",
      "C:\\Users\\A601\\AppData\\Roaming\\Python\\Python37\\site-packages\\tensorflow\\python\\framework\\dtypes.py:518: FutureWarning: Passing (type, 1) or '1type' as a synonym of type is deprecated; in a future version of numpy, it will be understood as (type, (1,)) / '(1,)type'.\n",
      "  _np_qint16 = np.dtype([(\"qint16\", np.int16, 1)])\n",
      "C:\\Users\\A601\\AppData\\Roaming\\Python\\Python37\\site-packages\\tensorflow\\python\\framework\\dtypes.py:519: FutureWarning: Passing (type, 1) or '1type' as a synonym of type is deprecated; in a future version of numpy, it will be understood as (type, (1,)) / '(1,)type'.\n",
      "  _np_quint16 = np.dtype([(\"quint16\", np.uint16, 1)])\n",
      "C:\\Users\\A601\\AppData\\Roaming\\Python\\Python37\\site-packages\\tensorflow\\python\\framework\\dtypes.py:520: FutureWarning: Passing (type, 1) or '1type' as a synonym of type is deprecated; in a future version of numpy, it will be understood as (type, (1,)) / '(1,)type'.\n",
      "  _np_qint32 = np.dtype([(\"qint32\", np.int32, 1)])\n",
      "C:\\Users\\A601\\AppData\\Roaming\\Python\\Python37\\site-packages\\tensorflow\\python\\framework\\dtypes.py:525: FutureWarning: Passing (type, 1) or '1type' as a synonym of type is deprecated; in a future version of numpy, it will be understood as (type, (1,)) / '(1,)type'.\n",
      "  np_resource = np.dtype([(\"resource\", np.ubyte, 1)])\n",
      "C:\\Users\\A601\\Anaconda3\\lib\\site-packages\\tensorboard\\compat\\tensorflow_stub\\dtypes.py:541: FutureWarning: Passing (type, 1) or '1type' as a synonym of type is deprecated; in a future version of numpy, it will be understood as (type, (1,)) / '(1,)type'.\n",
      "  _np_qint8 = np.dtype([(\"qint8\", np.int8, 1)])\n",
      "C:\\Users\\A601\\Anaconda3\\lib\\site-packages\\tensorboard\\compat\\tensorflow_stub\\dtypes.py:542: FutureWarning: Passing (type, 1) or '1type' as a synonym of type is deprecated; in a future version of numpy, it will be understood as (type, (1,)) / '(1,)type'.\n",
      "  _np_quint8 = np.dtype([(\"quint8\", np.uint8, 1)])\n",
      "C:\\Users\\A601\\Anaconda3\\lib\\site-packages\\tensorboard\\compat\\tensorflow_stub\\dtypes.py:543: FutureWarning: Passing (type, 1) or '1type' as a synonym of type is deprecated; in a future version of numpy, it will be understood as (type, (1,)) / '(1,)type'.\n",
      "  _np_qint16 = np.dtype([(\"qint16\", np.int16, 1)])\n",
      "C:\\Users\\A601\\Anaconda3\\lib\\site-packages\\tensorboard\\compat\\tensorflow_stub\\dtypes.py:544: FutureWarning: Passing (type, 1) or '1type' as a synonym of type is deprecated; in a future version of numpy, it will be understood as (type, (1,)) / '(1,)type'.\n",
      "  _np_quint16 = np.dtype([(\"quint16\", np.uint16, 1)])\n",
      "C:\\Users\\A601\\Anaconda3\\lib\\site-packages\\tensorboard\\compat\\tensorflow_stub\\dtypes.py:545: FutureWarning: Passing (type, 1) or '1type' as a synonym of type is deprecated; in a future version of numpy, it will be understood as (type, (1,)) / '(1,)type'.\n",
      "  _np_qint32 = np.dtype([(\"qint32\", np.int32, 1)])\n",
      "C:\\Users\\A601\\Anaconda3\\lib\\site-packages\\tensorboard\\compat\\tensorflow_stub\\dtypes.py:550: FutureWarning: Passing (type, 1) or '1type' as a synonym of type is deprecated; in a future version of numpy, it will be understood as (type, (1,)) / '(1,)type'.\n",
      "  np_resource = np.dtype([(\"resource\", np.ubyte, 1)])\n"
     ]
    }
   ],
   "source": [
    "#%tensorflow_version 1.x\n",
    "\n",
    "#import necessary libraries\n",
    "import tensorflow as tf\n",
    "import numpy as np\n",
    "from matplotlib import pyplot as plt\n",
    "import scipy.ndimage as nd\n",
    "\n",
    "%matplotlib inline\n",
    "import pylab as pl\n",
    "from IPython import display\n",
    "\n",
    "#from tensorflow.examples.tutorials.mnist import input_data\n",
    "from tensorflow_probability import distributions as tfd\n",
    "from sklearn.metrics import roc_curve, precision_recall_curve, auc"
   ]
  },
  {
   "cell_type": "code",
   "execution_count": 2,
   "metadata": {
    "id": "zhjsPKg6y302"
   },
   "outputs": [
    {
     "name": "stdout",
     "output_type": "stream",
     "text": [
      "Num GPUs Available:  1\n"
     ]
    }
   ],
   "source": [
    "#optional: define which GPU will be used\n",
    "import os\n",
    "os.environ[\"CUDA_DEVICE_ORDER\"]=\"PCI_BUS_ID\"\n",
    "os.environ[\"CUDA_VISIBLE_DEVICES\"]=\"0\"\n",
    "print(\"Num GPUs Available: \", len(tf.config.experimental.list_physical_devices('GPU')))"
   ]
  },
  {
   "cell_type": "code",
   "execution_count": 3,
   "metadata": {
    "id": "7O105bA1y31Z"
   },
   "outputs": [],
   "source": [
    "# define some utility functions\n",
    "def var(name, shape, init=None):\n",
    "    if init is None:\n",
    "        # Initializer that generates a truncated normal distribution.\n",
    "        init = tf.truncated_normal_initializer(stddev=(2/shape[0])**0.5)\n",
    "    # create a new variable with these parameters.\n",
    "    return tf.get_variable(name=name, shape=shape, dtype=tf.float32,\n",
    "                          initializer=init)\n",
    "\n",
    "def conv(Xin, f, strides=[1, 1, 1, 1], padding='SAME'):\n",
    "    # Computes a 2-D convolution given input and 4-D filters tensors.\n",
    "    return tf.nn.conv2d(Xin, f, strides, padding)\n",
    "\n",
    "def max_pool(Xin, ksize=[1, 2, 2, 1], strides=[1, 2, 2, 1], padding='SAME'):\n",
    "    # Performs max pooling on the input.\n",
    "    return tf.nn.max_pool(Xin, ksize, strides, padding)\n",
    "\n",
    "def rotate_img(x, deg):\n",
    "    import scipy.ndimage as nd\n",
    "    return nd.rotate(x.reshape(32,32,3),deg,reshape=False).ravel()"
   ]
  },
  {
   "cell_type": "code",
   "execution_count": 5,
   "metadata": {
    "id": "OgjYkAuLy31l"
   },
   "outputs": [],
   "source": [
    "def exp_evidence(logits): \n",
    "    return tf.exp(logits) \n",
    "\n",
    "def KL(alpha): \n",
    "    K=alpha.get_shape()[-1].value \n",
    "    beta=tf.constant(np.ones((1,K)),dtype=tf.float32)\n",
    "    S_alpha = tf.reduce_sum(alpha,axis=1,keep_dims=True)\n",
    "    S_beta = tf.reduce_sum(beta,axis=1,keep_dims=True)\n",
    "    lnB = tf.lgamma(S_alpha) - tf.reduce_sum(tf.lgamma(alpha),axis=1,keep_dims=True)\n",
    "    lnB_uni = tf.reduce_sum(tf.lgamma(beta),axis=1,keep_dims=True) - tf.lgamma(S_beta)\n",
    "    \n",
    "    dg0 = tf.digamma(S_alpha)\n",
    "    dg1 = tf.digamma(alpha)\n",
    "    \n",
    "    kl = tf.reduce_sum((alpha - beta)*(dg1-dg0),axis=1,keep_dims=True) + lnB + lnB_uni\n",
    "    return kl"
   ]
  },
  {
   "cell_type": "code",
   "execution_count": 6,
   "metadata": {
    "id": "BKdYwkF5y31o"
   },
   "outputs": [],
   "source": [
    "def calc_entropy(p):\n",
    "    return (-p*np.log(p+1e-8)).sum(1)"
   ]
  },
  {
   "cell_type": "markdown",
   "metadata": {
    "id": "66NievSky31s"
   },
   "source": [
    "# Define the generative models"
   ]
  },
  {
   "cell_type": "code",
   "execution_count": 7,
   "metadata": {
    "id": "_pCcemcEy31w"
   },
   "outputs": [],
   "source": [
    "def disc(x, name='disc',K=5):\n",
    "    with tf.variable_scope(name, reuse=tf.AUTO_REUSE):\n",
    "        x_inp = tf.reshape(x, [-1, 32, 32, 3]) \n",
    "        \n",
    "        # l2正则化\n",
    "        regularizer = tf.contrib.layers.l2_regularizer(scale=0.001)\n",
    "\n",
    "\n",
    "        x = tf.layers.conv2d(inputs=x_inp, kernel_size=5, filters=192,\n",
    "                         activation=tf.nn.relu, padding='VALID',\n",
    "                         kernel_regularizer=regularizer,\n",
    "                         kernel_initializer=tf.variance_scaling_initializer())\n",
    "        x = tf.nn.max_pool(x, ksize=[1, 2, 2, 1], strides=[1, 2, 2, 1],\n",
    "                       padding='SAME')\n",
    "\n",
    "        x = tf.layers.conv2d(inputs=x, kernel_size=5, filters=192,\n",
    "                         activation=tf.nn.relu, padding='VALID',\n",
    "                         kernel_regularizer=regularizer,\n",
    "                         kernel_initializer=tf.variance_scaling_initializer())\n",
    "        x = tf.nn.max_pool(x, ksize=[1, 2, 2, 1], strides=[1, 2, 2, 1],\n",
    "                       padding='SAME')\n",
    "\n",
    "        x = tf.layers.flatten(x)\n",
    "\n",
    "        x = tf.layers.dense(inputs=x, units=1000, activation=tf.nn.relu,\n",
    "                        kernel_regularizer=regularizer,\n",
    "                        kernel_initializer=tf.variance_scaling_initializer())\n",
    "\n",
    "        x = tf.layers.dense(inputs=x, units=K,\n",
    "                        kernel_regularizer=regularizer,\n",
    "                        kernel_initializer=tf.variance_scaling_initializer())\n",
    "\n",
    "        return x"
   ]
  },
  {
   "cell_type": "code",
   "execution_count": 8,
   "metadata": {
    "id": "tzw4fevdy311"
   },
   "outputs": [],
   "source": [
    "layers_g = [{'filters': 256, 'kernel_size': [8, 8], 'strides': [1, 1], 'padding': 'valid'},\n",
    "            {'filters': 128, 'kernel_size': [5, 5], 'strides': [2, 2], 'padding': 'same'},\n",
    "            {'filters': 3, 'kernel_size': [5, 5], 'strides': [2, 2], 'padding': 'same'}]\n",
    "    \n",
    "def imgen(x): \n",
    "    # print(x.shape)\n",
    "    if len(x.get_shape()) == 2: \n",
    "        m = x.get_shape()[1] \n",
    "        layer = tf.reshape(x, [-1, 1, 1, m])\n",
    "    else:\n",
    "        layer = x\n",
    "\n",
    "    depth = len(layers_g) \n",
    "    for i in range(depth):\n",
    "        layer_config = layers_g[i]\n",
    "        is_output = ((i + 1) == depth)\n",
    "        \n",
    "        # print(layer.shape)\n",
    "        conv2d = tf.layers.conv2d_transpose(\n",
    "                    layer, \n",
    "                    filters = layer_config['filters'], \n",
    "                    kernel_size = layer_config['kernel_size'], \n",
    "                    strides = layer_config['strides'], \n",
    "                    padding = layer_config['padding'],\n",
    "                    activation = tf.nn.tanh if is_output else None,\n",
    "                    kernel_initializer = tf.truncated_normal_initializer(stddev=0.02), \n",
    "                    name = 'layer_' + str(i))\n",
    "\n",
    "        if is_output:\n",
    "            layer = conv2d\n",
    "        else:\n",
    "            norm = tf.layers.batch_normalization(conv2d, training=True) # Batch normalization\n",
    "            lrelu = tf.nn.leaky_relu(norm) # Compute the Leaky ReLU activation function.\n",
    "            layer = lrelu\n",
    "    # print(layer.shape)            \n",
    "    # [M, img_size, img_size, img_channels]\n",
    "    output = tf.identity(layer, name='generated_images') # Return a Tensor with the same shape and contents as input.\n",
    "    # print(output.shape)\n",
    "    return output \n",
    "\n",
    "def encoder(x, n=100):\n",
    "    with tf.variable_scope('encoder', reuse=tf.AUTO_REUSE):\n",
    "        x = tf.reshape(x, [-1, 32, 32, 3])\n",
    "        x = tf.layers.conv2d(x, 192, 5, activation=tf.nn.relu)\n",
    "        x = tf.layers.max_pooling2d(x, 2, 2)\n",
    "\n",
    "        x = tf.layers.conv2d(x, 192, 5, activation=tf.nn.relu)\n",
    "        x = tf.layers.max_pooling2d(x, 2, 2)\n",
    "\n",
    "        x = tf.layers.flatten(x)\n",
    "\n",
    "        loc = tf.layers.dense(x, n)\n",
    "        scale = tf.layers.dense(x, n, tf.nn.softplus)\n",
    "        code = tfd.MultivariateNormalDiag(loc, scale).sample()\n",
    "    \n",
    "    return code\n",
    "\n",
    "def make_prior(code_size):\n",
    "    loc = tf.zeros(code_size)\n",
    "    scale = tf.ones(code_size)\n",
    "    return tfd.MultivariateNormalDiag(loc, scale) # The multivariate normal distribution 这里的loc和scale取值表示Identity scale, zero shift.\n",
    "\n",
    "\n",
    "\n",
    "def decoder(code):\n",
    "    with tf.variable_scope('decoder', reuse=tf.AUTO_REUSE):\n",
    "        recon = imgen(code) \n",
    "    return recon\n",
    "\n",
    "def gen(code):\n",
    "    with tf.variable_scope('gen', reuse=tf.AUTO_REUSE):\n",
    "        n = tf.shape(code)[0]\n",
    "        m = code.get_shape()[1]\n",
    "        x = tf.concat((tf.random_normal(shape=(n, 2)), code), 1)\n",
    "        x = tf.layers.dense(x, 32, tf.nn.leaky_relu)\n",
    "        x = tf.layers.dense(x, 32, tf.nn.leaky_relu)\n",
    "        x = tf.layers.dense(x, 32, tf.nn.leaky_relu)\n",
    "        std = tf.layers.dense(x, m, tf.nn.softplus) \n",
    "    return std\n",
    "\n",
    "def diz(x): # the discriminator in latent space\n",
    "    with tf.variable_scope('diz', reuse=tf.AUTO_REUSE):\n",
    "        regularizer = tf.contrib.layers.l2_regularizer(scale=0.001)\n",
    "        x = tf.layers.dense(x, 32, tf.nn.leaky_relu, kernel_regularizer=regularizer, bias_regularizer=regularizer)\n",
    "        x = tf.layers.dense(x, 32, tf.nn.leaky_relu, kernel_regularizer=regularizer, bias_regularizer=regularizer)\n",
    "        x = tf.layers.dense(x, 32, tf.nn.leaky_relu, kernel_regularizer=regularizer, bias_regularizer=regularizer)\n",
    "        x = tf.layers.dense(x, 1, kernel_regularizer=regularizer, bias_regularizer=regularizer)\n",
    "    return x\n",
    "\n",
    "def wloss(logits, maximize=True ):\n",
    "    labels = tf.ones_like(logits) if maximize else tf.zeros_like(logits) \n",
    "    return tf.reduce_mean(tf.nn.sigmoid_cross_entropy_with_logits(logits=logits, labels=labels)) \n",
    "\n",
    "def autoencoder(X=None, n=5):\n",
    "    if X is None:\n",
    "        X = tf.placeholder(shape=[None,32*32*3], dtype=tf.float32) \n",
    "    code = encoder(X,n) \n",
    "     \n",
    "    std = gen(code)\n",
    "    pdf = tfd.MultivariateNormalDiag(loc=code, scale_diag=(std+1e-3)) # The multivariate normal distribution\n",
    "    fake = pdf.sample() # Generate samples of the specified shape.\n",
    "    \n",
    "\n",
    "    rlogits = diz(code)\n",
    "    r_p = tf.nn.sigmoid(rlogits) \n",
    "    \n",
    "    flogits = diz(fake)\n",
    "    f_p = tf.nn.sigmoid(flogits)\n",
    "    \n",
    "    recon = decoder(code) \n",
    "    Xfake = decoder(fake)   \n",
    "    \n",
    "    real_logits = disc(X,'disc0')\n",
    "    real_p = tf.nn.sigmoid(real_logits)\n",
    "    \n",
    "    fake_logits = disc(Xfake,'disc0')\n",
    "    fake_p = tf.nn.sigmoid(fake_logits)\n",
    "        \n",
    "    prior = make_prior(code_size=n)\n",
    "        \n",
    "    kl = -tf.reduce_mean(prior.log_prob(code)) \n",
    "    kl_fake = -tf.reduce_mean(prior.log_prob(fake))\n",
    "\n",
    "    ae_vars = [v for v in tf.trainable_variables() if 'encoder/' in v.name or 'decoder/' in v.name] \n",
    "    gen_vars = [v for v in tf.trainable_variables() if 'gen/' in v.name]\n",
    "    disc_vars = [v for v in tf.trainable_variables() if 'disc0/' in v.name]\n",
    "    diz_vars = [v for v in tf.trainable_variables() if 'diz/' in v.name]\n",
    "    \n",
    "    \n",
    "    loss_diz = tf.reduce_mean(rlogits)-tf.reduce_mean(flogits) ##\n",
    "    \n",
    "    loss_disc = tf.reduce_mean(real_logits)-tf.reduce_mean(fake_logits) ## \n",
    "    \n",
    "    loss_gen = tf.reduce_mean(-tf.log(1-fake_p+1e-8))  + tf.reduce_mean(-tf.log(f_p+1e-8))\n",
    "    \n",
    "    ### need to revise\n",
    "    recon = tf.layers.flatten(recon)\n",
    "    rec_loss = tf.reduce_mean( tf.reduce_sum(tf.square(recon-X),1) + 1e-4) + 0.1*kl\n",
    "    rec_loss += wloss(flogits, False)\n",
    "    rec_step = tf.train.AdamOptimizer().minimize(rec_loss, var_list=ae_vars) # Optimizer that implements the Adam algorithm.\n",
    "        \n",
    "    diz_step = tf.train.RMSPropOptimizer(1e-4).minimize(loss_diz, var_list=diz_vars) # Optimizer that implements the RMSProp algorithm (Tielemans et al.\n",
    "    disc_step = tf.train.RMSPropOptimizer(1e-4).minimize(loss_disc, var_list=disc_vars)\n",
    "    gen_step = tf.train.RMSPropOptimizer(1e-4).minimize(loss_gen, var_list=gen_vars)\n",
    "    \n",
    "    rec_step = tf.group([rec_step for _ in range(10)]) # Create an operation that groups multiple operations.\n",
    "    \n",
    "    step = tf.group([rec_step, diz_step, disc_step, gen_step])\n",
    "    return X, Xfake, code, recon, rec_loss, step"
   ]
  },
  {
   "cell_type": "code",
   "execution_count": 9,
   "metadata": {
    "id": "XjExIFqVy318"
   },
   "outputs": [],
   "source": [
    "def misleading_alpha(alpha, y):\n",
    "    K = y.get_shape()[-1].value\n",
    "    indices = tf.where(tf.equal(y, tf.constant(0, dtype=tf.float32))) \n",
    "    alp = tf.gather_nd(alpha, indices) # Gather slices from params into a Tensor with shape specified by indices\n",
    "    alp = tf.reshape(alp, [-1, K - 1])\n",
    "    return alp\n",
    "\n",
    "def loss_fn(Y, evidence, real_p, fake_p): \n",
    "    disc_loss = tf.reduce_mean(tf.reduce_sum(-Y * tf.log(real_p + 1e-5), axis=1) +\n",
    "                               tf.reduce_sum(-Y * tf.log((1.0 - fake_p) + 1e-5), axis=1))\n",
    "    alp = misleading_alpha(evidence+1, Y)\n",
    "    disc_loss += tf.reduce_mean(KL(alp))\n",
    "    return disc_loss"
   ]
  },
  {
   "cell_type": "code",
   "execution_count": 10,
   "metadata": {
    "id": "V2lGdBA5y31_"
   },
   "outputs": [],
   "source": [
    "# train LeNet network\n",
    "def LeNet(logits2evidence=exp_evidence, lmb=0.005,K=5):\n",
    "    g = tf.Graph() # A TensorFlow computation, represented as a dataflow graph.\n",
    "    with g.as_default():\n",
    "        X = tf.placeholder(shape=[None,32*32*3], dtype=tf.float32) \n",
    "        Y = tf.placeholder(shape=[None,K], dtype=tf.float32) \n",
    "        adv_eps = tf.placeholder(dtype=tf.float32)   \n",
    "    \n",
    "        recon=None\n",
    "        _, X_fake, code, recon, rec_loss, step_gen = autoencoder(X)\n",
    "        \n",
    "        real_logits = disc(X,K=K)\n",
    "        real_p = tf.nn.sigmoid(real_logits)\n",
    "        \n",
    "        fake_logits = disc(X_fake,K=K)\n",
    "        fake_p = tf.nn.sigmoid(fake_logits)\n",
    "        \n",
    "        evidence = logits2evidence(real_logits) \n",
    "        alpha = evidence + 1\n",
    "        \n",
    "        u = K / tf.reduce_sum(alpha, axis=1, keep_dims=True) #uncertainty\n",
    "        \n",
    "        prob = alpha/tf.reduce_sum(alpha, 1, keepdims=True) \n",
    "        \n",
    "        \n",
    "        var_disc = [v for v in tf.trainable_variables() if 'disc/' in v.name]\n",
    "        \n",
    "        l2_loss = tf.losses.get_regularization_loss()\n",
    "        \n",
    "#         disc_loss = tf.reduce_mean(tf.reduce_sum(-Y*tf.log(real_p + 1e-8), axis=1) + \n",
    "#                             tf.reduce_sum(-(1-Y)*tf.log(1.0-real_p + 1e-8), axis=1) +\n",
    "#                             tf.reduce_sum(-tf.log((1.0-fake_p) + 1e-8), axis=1))\n",
    "        \n",
    "        disc_loss = loss_fn(Y, evidence, real_p, fake_p)\n",
    "        \n",
    "        \n",
    "        step_disc = tf.train.AdamOptimizer().minimize(disc_loss + l2_loss, var_list = var_disc)\n",
    "        \n",
    "        \n",
    "        loss_grads = tf.gradients(disc_loss, X)[0] \n",
    "        adv_x = X + adv_eps * tf.sign(loss_grads) \n",
    "        \n",
    "        step = tf.group([step_disc, step_gen])\n",
    "        \n",
    "        # Calculate accuracy\n",
    "        pred = tf.argmax(real_logits, 1) \n",
    "        truth = tf.argmax(Y, 1)\n",
    "        match = tf.reshape(tf.cast(tf.equal(pred, truth), tf.float32),(-1,1)) \n",
    "        acc = tf.reduce_mean(match)\n",
    "        \n",
    "        total_evidence = tf.reduce_sum(evidence,1, keepdims=True) \n",
    "        mean_ev = tf.reduce_mean(total_evidence)\n",
    "        mean_ev_succ = tf.reduce_sum(tf.reduce_sum(evidence,1, keepdims=True)*match) / tf.reduce_sum(match+1e-20)\n",
    "        mean_ev_fail = tf.reduce_sum(tf.reduce_sum(evidence,1, keepdims=True)*(1-match)) / (tf.reduce_sum(tf.abs(1-match))+1e-20) \n",
    "        \n",
    "        return g, step, X, Y, adv_eps, adv_x, recon, prob, acc, disc_loss, u, evidence, mean_ev, mean_ev_succ, mean_ev_fail, real_logits, X_fake"
   ]
  },
  {
   "cell_type": "code",
   "execution_count": 11,
   "metadata": {
    "colab": {
     "base_uri": "https://localhost:8080/"
    },
    "executionInfo": {
     "elapsed": 7062,
     "status": "ok",
     "timestamp": 1646448407390,
     "user": {
      "displayName": "Kogen Wang",
      "photoUrl": "https://lh3.googleusercontent.com/a/default-user=s64",
      "userId": "17521043859480564834"
     },
     "user_tz": -480
    },
    "id": "nYlQzSpoy32F",
    "outputId": "abe1893d-7e49-415f-d4e4-20b81d07aac1",
    "scrolled": true
   },
   "outputs": [
    {
     "name": "stdout",
     "output_type": "stream",
     "text": [
      "WARNING:tensorflow:From <ipython-input-8-7a7c311c0e2e>:44: conv2d (from tensorflow.python.layers.convolutional) is deprecated and will be removed in a future version.\n",
      "Instructions for updating:\n",
      "Use `tf.keras.layers.Conv2D` instead.\n",
      "WARNING:tensorflow:From C:\\Users\\A601\\AppData\\Roaming\\Python\\Python37\\site-packages\\tensorflow\\python\\ops\\init_ops.py:1251: calling VarianceScaling.__init__ (from tensorflow.python.ops.init_ops) with dtype is deprecated and will be removed in a future version.\n",
      "Instructions for updating:\n",
      "Call initializer instance with the dtype argument instead of passing it to the constructor\n",
      "WARNING:tensorflow:From <ipython-input-8-7a7c311c0e2e>:45: max_pooling2d (from tensorflow.python.layers.pooling) is deprecated and will be removed in a future version.\n",
      "Instructions for updating:\n",
      "Use keras.layers.MaxPooling2D instead.\n",
      "WARNING:tensorflow:From <ipython-input-8-7a7c311c0e2e>:50: flatten (from tensorflow.python.layers.core) is deprecated and will be removed in a future version.\n",
      "Instructions for updating:\n",
      "Use keras.layers.flatten instead.\n",
      "WARNING:tensorflow:From <ipython-input-8-7a7c311c0e2e>:52: dense (from tensorflow.python.layers.core) is deprecated and will be removed in a future version.\n",
      "Instructions for updating:\n",
      "Use keras.layers.dense instead.\n",
      "WARNING:tensorflow:\n",
      "The TensorFlow contrib module will not be included in TensorFlow 2.0.\n",
      "For more information, please see:\n",
      "  * https://github.com/tensorflow/community/blob/master/rfcs/20180907-contrib-sunset.md\n",
      "  * https://github.com/tensorflow/addons\n",
      "  * https://github.com/tensorflow/io (for I/O related ops)\n",
      "If you depend on functionality not listed there, please file an issue.\n",
      "\n",
      "WARNING:tensorflow:From <ipython-input-8-7a7c311c0e2e>:27: conv2d_transpose (from tensorflow.python.layers.convolutional) is deprecated and will be removed in a future version.\n",
      "Instructions for updating:\n",
      "Use `tf.keras.layers.Conv2DTranspose` instead.\n",
      "WARNING:tensorflow:From <ipython-input-8-7a7c311c0e2e>:32: batch_normalization (from tensorflow.python.layers.normalization) is deprecated and will be removed in a future version.\n",
      "Instructions for updating:\n",
      "Use keras.layers.BatchNormalization instead.  In particular, `tf.control_dependencies(tf.GraphKeys.UPDATE_OPS)` should not be used (consult the `tf.keras.layers.batch_normalization` documentation).\n",
      "WARNING:tensorflow:From C:\\Users\\A601\\AppData\\Roaming\\Python\\Python37\\site-packages\\tensorflow\\python\\ops\\nn_impl.py:180: add_dispatch_support.<locals>.wrapper (from tensorflow.python.ops.array_ops) is deprecated and will be removed in a future version.\n",
      "Instructions for updating:\n",
      "Use tf.where in 2.0, which has the same broadcast rule as np.where\n",
      "WARNING:tensorflow:From C:\\Users\\A601\\AppData\\Roaming\\Python\\Python37\\site-packages\\tensorflow\\python\\training\\rmsprop.py:119: calling Ones.__init__ (from tensorflow.python.ops.init_ops) with dtype is deprecated and will be removed in a future version.\n",
      "Instructions for updating:\n",
      "Call initializer instance with the dtype argument instead of passing it to the constructor\n",
      "WARNING:tensorflow:From <ipython-input-10-2d90f073f8d5>:21: calling reduce_sum_v1 (from tensorflow.python.ops.math_ops) with keep_dims is deprecated and will be removed in a future version.\n",
      "Instructions for updating:\n",
      "keep_dims is deprecated, use keepdims instead\n"
     ]
    }
   ],
   "source": [
    "g, step, X, Y, adv_eps, adv_x, recon, prob, acc, loss, u, evidence, mean_ev, mean_ev_succ, mean_ev_fail, logits, X_fake = LeNet(exp_evidence)"
   ]
  },
  {
   "cell_type": "code",
   "execution_count": 12,
   "metadata": {
    "id": "d1-8cGG9y32K",
    "scrolled": false
   },
   "outputs": [],
   "source": [
    "config = tf.ConfigProto()\n",
    "config.allow_soft_placement=True \n",
    "config.gpu_options.per_process_gpu_memory_fraction = 0.9  \n",
    "config.gpu_options.allow_growth = True\n",
    "sess = tf.Session(graph=g,config=config) \n",
    "with g.as_default():\n",
    "    sess.run(tf.global_variables_initializer()) "
   ]
  },
  {
   "cell_type": "code",
   "execution_count": 13,
   "metadata": {
    "id": "vVIbNNl2y32V"
   },
   "outputs": [],
   "source": [
    "def get_dataset(dataset,labels, digits):\n",
    "    digits=np.array([digits])\n",
    "    y = labels.argmax(1)[:,None] ==digits \n",
    "    indx = (y.sum(1) > 0) \n",
    "    return dataset[indx],y[indx].astype(float)\n",
    "\n",
    "def next_batch(data,labels, i, bsz):\n",
    "    i = i % (data.shape[0]//bsz)\n",
    "    return data[i*bsz:(i+1)*bsz], labels[i*bsz:(i+1)*bsz], np.arange(data.shape[0])[i*bsz:(i+1)*bsz] "
   ]
  },
  {
   "cell_type": "code",
   "execution_count": 14,
   "metadata": {},
   "outputs": [],
   "source": [
    "import scipy.io as scio\n",
    "\n",
    "traindata = scio.loadmat('C:/Users/A601/Desktop/Files/Residual_Stress/Test/SVHN/train_32x32.mat')\n",
    "x_train = traindata['X']/255\n",
    "y_train = traindata['y']\n",
    "x_train = x_train.transpose((3,0,1,2))\n",
    "\n",
    "testdata = scio.loadmat('C:/Users/A601/Desktop/Files/Residual_Stress/Test/SVHN/test_32x32.mat')\n",
    "x_test = testdata['X']/255\n",
    "y_test = testdata['y']\n",
    "x_test = x_test.transpose((3,0,1,2))"
   ]
  },
  {
   "cell_type": "code",
   "execution_count": 15,
   "metadata": {
    "colab": {
     "base_uri": "https://localhost:8080/"
    },
    "executionInfo": {
     "elapsed": 2950,
     "status": "ok",
     "timestamp": 1646448426737,
     "user": {
      "displayName": "Kogen Wang",
      "photoUrl": "https://lh3.googleusercontent.com/a/default-user=s64",
      "userId": "17521043859480564834"
     },
     "user_tz": -480
    },
    "id": "ga5pdRSV0UP_",
    "outputId": "59dab490-3c84-48da-fec2-a95e3c43b8a2"
   },
   "outputs": [
    {
     "name": "stdout",
     "output_type": "stream",
     "text": [
      "(73257, 3072)\n",
      "(73257,)\n",
      "(26032, 3072)\n",
      "(26032,)\n"
     ]
    }
   ],
   "source": [
    "x_train = x_train.reshape([-1, 32*32*3])\n",
    "x_test = x_test.reshape([-1, 32*32*3])\n",
    "y_train = y_train[:,0]\n",
    "y_test = y_test[:,0]\n",
    "\n",
    "print(x_train.shape)\n",
    "print(y_train.shape)\n",
    "print(x_test.shape)\n",
    "print(y_test.shape)"
   ]
  },
  {
   "cell_type": "code",
   "execution_count": 16,
   "metadata": {
    "colab": {
     "base_uri": "https://localhost:8080/",
     "height": 266
    },
    "executionInfo": {
     "elapsed": 21,
     "status": "ok",
     "timestamp": 1646448426738,
     "user": {
      "displayName": "Kogen Wang",
      "photoUrl": "https://lh3.googleusercontent.com/a/default-user=s64",
      "userId": "17521043859480564834"
     },
     "user_tz": -480
    },
    "id": "nVy5oNSOy31U",
    "outputId": "b06847b1-7408-4a15-ff23-e16b21d6a88a"
   },
   "outputs": [
    {
     "data": {
      "image/png": "[encoded data removed]",
      "text/plain": [
       "<Figure size 432x288 with 1 Axes>"
      ]
     },
     "metadata": {
      "needs_background": "light"
     },
     "output_type": "display_data"
    }
   ],
   "source": [
    "#digit_one = mnist.train.images[4].copy()\n",
    "#plt.imshow(digit_one.reshape(28,28)) \n",
    "plt.imshow(x_train[6000].reshape(32,32,3)) \n",
    "plt.show()"
   ]
  },
  {
   "cell_type": "code",
   "execution_count": 17,
   "metadata": {
    "id": "MROFqBJQ1naS"
   },
   "outputs": [],
   "source": [
    "K = 5 # number of classes"
   ]
  },
  {
   "cell_type": "code",
   "execution_count": 18,
   "metadata": {
    "id": "-FFOafgyy32e"
   },
   "outputs": [],
   "source": [
    "def y_resize(y_ori):\n",
    "    y_matrix = np.zeros((len(y_ori),max(y_ori)))\n",
    "    for i in range(len(y_ori)):\n",
    "        if y_ori[i] == 10:\n",
    "            y_ori[i] = 0\n",
    "        y_matrix[i,y_ori[i]] = 1\n",
    "\n",
    "    # print(y_train[0:5])\n",
    "    # print(y_matrix[0:5])\n",
    "    return y_matrix"
   ]
  },
  {
   "cell_type": "code",
   "execution_count": 19,
   "metadata": {
    "id": "BTXVcjnOVKMh"
   },
   "outputs": [],
   "source": [
    "y_train = y_resize(y_train)\n",
    "y_test = y_resize(y_test)"
   ]
  },
  {
   "cell_type": "code",
   "execution_count": 20,
   "metadata": {},
   "outputs": [
    {
     "name": "stdout",
     "output_type": "stream",
     "text": [
      "(73257, 10)\n",
      "(26032, 10)\n"
     ]
    }
   ],
   "source": [
    "print(y_train.shape)\n",
    "print(y_test.shape)"
   ]
  },
  {
   "cell_type": "code",
   "execution_count": 21,
   "metadata": {
    "id": "SIoZ_bNjy32Y"
   },
   "outputs": [
    {
     "name": "stdout",
     "output_type": "stream",
     "text": [
      "(45349, 3072)\n",
      "(45349, 5)\n",
      "(16397, 3072)\n",
      "(16397, 5)\n",
      "9635\n"
     ]
    }
   ],
   "source": [
    "in_labels = range(5)\n",
    "out_labels = list(set(range(10))-set(in_labels))\n",
    "\n",
    "x_train, y_train = get_dataset(x_train,y_train,in_labels)\n",
    "x_out, y_out = get_dataset(x_test,y_test,out_labels)\n",
    "x_test,y_test = get_dataset(x_test,y_test,in_labels)\n",
    "OoD = x_out\n",
    "\n",
    "print(x_train.shape)\n",
    "print(y_train.shape)\n",
    "print(x_test.shape)\n",
    "print(y_test.shape)\n",
    "\n",
    "print(OoD.shape[0])"
   ]
  },
  {
   "cell_type": "code",
   "execution_count": 22,
   "metadata": {},
   "outputs": [],
   "source": [
    "L_train_acc1=[]\n",
    "L_train_ev_s=[]\n",
    "L_train_ev_f=[]\n",
    "L_test_acc1=[]\n",
    "L_test_ev_s=[]\n",
    "L_test_ev_f=[]"
   ]
  },
  {
   "cell_type": "code",
   "execution_count": 23,
   "metadata": {
    "colab": {
     "base_uri": "https://localhost:8080/",
     "height": 236
    },
    "executionInfo": {
     "elapsed": 961,
     "status": "error",
     "timestamp": 1646461624321,
     "user": {
      "displayName": "Kogen Wang",
      "photoUrl": "https://lh3.googleusercontent.com/a/default-user=s64",
      "userId": "17521043859480564834"
     },
     "user_tz": -480
    },
    "id": "6g3esowVy32g",
    "outputId": "31feb570-f04a-4c8a-f1c5-d9ac6b47806e"
   },
   "outputs": [
    {
     "name": "stdout",
     "output_type": "stream",
     "text": [
      "epoch 1 - 100%) training: 0.4670 (5.0864 - 5.0034) \t testing: 0.4540 (5.1529 - 5.1128)\n",
      "epoch 2 - 100%) training: 0.7060 (3.8744 - 2.9822) \t testing: 0.6180 (4.2970 - 3.2427)\n",
      "epoch 3 - 100%) training: 0.8220 (36.9519 - 4.1003) \t testing: 0.7640 (28.0406 - 4.3812)\n",
      "epoch 4 - 100%) training: 0.8500 (159.5739 - 4.6082) \t testing: 0.8190 (142.0358 - 3.8649)\n",
      "epoch 5 - 100%) training: 0.8730 (424.4461 - 5.4380) \t testing: 0.8140 (448.9903 - 3.9547)\n",
      "epoch 6 - 100%) training: 0.8870 (1077.7441 - 6.3474) \t testing: 0.8520 (1071.5864 - 4.1618)\n",
      "epoch 7 - 100%) training: 0.8990 (1652.5341 - 6.9746) \t testing: 0.8500 (1822.6375 - 4.2126)\n",
      "epoch 8 - 100%) training: 0.8990 (2170.5718 - 7.3253) \t testing: 0.8570 (3135.2466 - 4.2444)\n",
      "epoch 9 - 100%) training: 0.9110 (2643.4734 - 7.5507) \t testing: 0.8620 (4684.8247 - 4.2810)\n",
      "epoch 10 - 100%) training: 0.9120 (4241.1396 - 8.5422) \t testing: 0.8760 (9579.6807 - 4.4528)\n",
      "epoch 11 - 100%) training: 0.9120 (11594.2139 - 11.4050) \t testing: 0.8870 (38532.8281 - 4.9392)\n",
      "epoch 12 - 100%) training: 0.9010 (34169.1484 - 16.6838) \t testing: 0.8740 (160757.3281 - 5.4047)\n",
      "epoch 13 - 100%) training: 0.9150 (19942.1680 - 8.3372) \t testing: 0.8850 (73363.1406 - 4.7464)\n",
      "epoch 14 - 100%) training: 0.9210 (24409.7480 - 9.6325) \t testing: 0.8980 (92670.5312 - 4.8097)\n",
      "epoch 15 - 100%) training: 0.9190 (30796.0586 - 11.3418) \t testing: 0.9020 (144062.5625 - 5.1911)\n",
      "epoch 16 - 100%) training: 0.9300 (39851.6719 - 10.3294) \t testing: 0.9010 (162282.8281 - 5.0235)\n",
      "epoch 17 - 100%) training: 0.9360 (55759.6797 - 10.3201) \t testing: 0.9020 (207748.7031 - 4.9747)\n",
      "epoch 18 - 100%) training: 0.9360 (85013.0000 - 9.6005) \t testing: 0.9030 (293554.5625 - 5.1503)\n",
      "epoch 19 - 100%) training: 0.9370 (85454.5156 - 8.9431) \t testing: 0.9000 (313916.7188 - 5.0097)\n",
      "epoch 20 - 100%) training: 0.9400 (119087.8828 - 9.1974) \t testing: 0.9020 (384063.1875 - 4.9431)\n",
      "epoch 21 - 100%) training: 0.9370 (185965.4062 - 8.4144) \t testing: 0.9060 (708168.5625 - 4.7670)\n",
      "epoch 22 - 100%) training: 0.9410 (168672.9844 - 7.8070) \t testing: 0.9080 (754431.5000 - 4.8483)\n",
      "epoch 23 - 100%) training: 0.9460 (281512.3750 - 7.8441) \t testing: 0.9070 (1118181.8750 - 4.8019)\n",
      "epoch 24 - 100%) training: 0.9470 (282196.5312 - 7.6197) \t testing: 0.9060 (1424523.5000 - 4.6628)\n",
      "epoch 25 - 100%) training: 0.9520 (371192.1250 - 7.2034) \t testing: 0.9070 (1725667.8750 - 4.7308)\n",
      "epoch 26 - 100%) training: 0.9480 (725714.2500 - 7.7111) \t testing: 0.9080 (3939578.0000 - 4.6883)\n",
      "epoch 27 - 100%) training: 0.9490 (468952.0000 - 6.6378) \t testing: 0.9100 (2178187.7500 - 4.5834)\n",
      "epoch 28 - 100%) training: 0.9460 (842687.6250 - 6.9543) \t testing: 0.9130 (4289371.0000 - 4.5371)\n",
      "epoch 29 - 100%) training: 0.9510 (980022.7500 - 6.8245) \t testing: 0.9150 (3716053.2500 - 4.9409)\n",
      "epoch 30 - 100%) training: 0.9540 (855765.1250 - 6.2093) \t testing: 0.9150 (3855721.2500 - 5.2580)\n",
      "epoch 31 - 100%) training: 0.9530 (513986.0938 - 5.5479) \t testing: 0.9130 (1855119.7500 - 5.5118)\n",
      "epoch 32 - 100%) training: 0.9540 (695802.8125 - 5.6659) \t testing: 0.9070 (2156801.2500 - 5.9686)\n",
      "epoch 33 - 100%) training: 0.9570 (1205777.5000 - 5.4233) \t testing: 0.9110 (3648597.7500 - 6.5270)\n",
      "epoch 34 - 100%) training: 0.9600 (1971089.8750 - 5.4886) \t testing: 0.9190 (7662222.0000 - 6.2694)\n",
      "epoch 35 - 100%) training: 0.9580 (2705794.2500 - 4.8293) \t testing: 0.9220 (11446985.0000 - 6.4437)\n",
      "epoch 36 - 100%) training: 0.9540 (2011320.3750 - 4.2904) \t testing: 0.9140 (8873328.0000 - 5.8850)\n",
      "epoch 37 - 100%) training: 0.9570 (1857301.2500 - 4.3310) \t testing: 0.9120 (6601517.0000 - 6.0201)\n",
      "epoch 38 - 100%) training: 0.9530 (3434659.2500 - 4.3921) \t testing: 0.9160 (17286734.0000 - 6.8399)\n",
      "epoch 39 - 100%) training: 0.9560 (8502741.0000 - 4.4664) \t testing: 0.9130 (53568572.0000 - 7.2438)\n",
      "epoch 40 - 100%) training: 0.9570 (19966712.0000 - 4.1242) \t testing: 0.9180 (119907432.0000 - 7.2879)\n",
      "epoch 41 - 100%) training: 0.9570 (39132888.0000 - 3.9820) \t testing: 0.9170 (144329456.0000 - 6.8087)\n",
      "epoch 42 - 100%) training: 0.9600 (245529056.0000 - 4.2067) \t testing: 0.9180 (666380032.0000 - 7.1150)\n",
      "epoch 43 - 100%) training: 0.9610 (46753636.0000 - 3.9304) \t testing: 0.9120 (156091600.0000 - 5.9829)\n",
      "epoch 44 - 100%) training: 0.9610 (26771706.0000 - 4.1426) \t testing: 0.9050 (141723024.0000 - 5.5384)\n",
      "epoch 45 - 100%) training: 0.9570 (9425459.0000 - 3.8617) \t testing: 0.8970 (61389084.0000 - 5.6054)\n",
      "epoch 46 - 100%) training: 0.9600 (89778760.0000 - 4.1384) \t testing: 0.9090 (307042880.0000 - 7.7334)\n",
      "epoch 47 - 100%) training: 0.9650 (289785408.0000 - 4.6479) \t testing: 0.9100 (442908128.0000 - 8.9774)\n",
      "epoch 48 - 100%) training: 0.9590 (109087472.0000 - 3.9313) \t testing: 0.9050 (199276416.0000 - 8.7365)\n",
      "epoch 49 - 100%) training: 0.9630 (801741824.0000 - 4.1486) \t testing: 0.9000 (2714250240.0000 - 8.7940)\n",
      "epoch 50 - 100%) training: 0.9600 (134241328.0000 - 3.9410) \t testing: 0.8990 (886470336.0000 - 8.6989)\n",
      "epoch 51 - 100%) training: 0.9600 (890267200.0000 - 4.2758) \t testing: 0.9150 (9429057536.0000 - 13.3083)\n",
      "epoch 52 - 100%) training: 0.9610 (465400544.0000 - 4.2002) \t testing: 0.9120 (1413246464.0000 - 18.6572)\n",
      "epoch 53 - 100%) training: 0.9590 (321086272.0000 - 4.6916) \t testing: 0.9100 (605840768.0000 - 27.0746)\n",
      "epoch 54 - 100%) training: 0.9600 (1148430336.0000 - 4.7884) \t testing: 0.9110 (1263556352.0000 - 18.8841)\n",
      "epoch 55 - 100%) training: 0.9680 (35479994368.0000 - 5.5512) \t testing: 0.9230 (54856871936.0000 - 13.2217)\n",
      "epoch 56 - 100%) training: 0.9660 (83640598528.0000 - 4.5912) \t testing: 0.9240 (336678420480.0000 - 12.3552)\n",
      "epoch 57 - 100%) training: 0.9690 (160131121152.0000 - 4.2006) \t testing: 0.9180 (196411654144.0000 - 9.9918)\n",
      "epoch 58 - 100%) training: 0.9680 (35509309440.0000 - 3.9313) \t testing: 0.9230 (52261502976.0000 - 13.6260)\n",
      "epoch 59 - 100%) training: 0.9700 (220395618304.0000 - 4.1628) \t testing: 0.9200 (205503283200.0000 - 11.6070)\n",
      "epoch 60 - 100%) training: 0.9650 (333747912704.0000 - 4.0231) \t testing: 0.9180 (200187772928.0000 - 11.3968)\n",
      "epoch 61 - 100%) training: 0.9700 (498184912896.0000 - 3.8244) \t testing: 0.9160 (641141178368.0000 - 11.1230)\n",
      "epoch 62 - 100%) training: 0.9730 (919535091712.0000 - 3.5059) \t testing: 0.9100 (1370616889344.0000 - 11.0800)\n",
      "epoch 63 - 100%) training: 0.9720 (607679348736.0000 - 3.5856) \t testing: 0.9160 (393595092992.0000 - 18.8154)\n",
      "epoch 64 - 100%) training: 0.9700 (2148807999488.0000 - 3.9431) \t testing: 0.9180 (1934864809984.0000 - 14.9889)\n",
      "epoch 65 - 100%) training: 0.9750 (162237513728.0000 - 3.7313) \t testing: 0.9240 (109362733056.0000 - 20.9332)\n",
      "epoch 66 - 100%) training: 0.9680 (548292820992.0000 - 3.7002) \t testing: 0.9120 (435801391104.0000 - 12.3137)\n",
      "epoch 67 - 100%) training: 0.9680 (469249097728.0000 - 3.9552) \t testing: 0.9060 (80129466368.0000 - 17.0019)\n",
      "epoch 68 - 100%) training: 0.9700 (1454512406528.0000 - 3.7382) \t testing: 0.9050 (1935613231104.0000 - 11.9709)\n",
      "epoch 69 - 100%) training: 0.9710 (584251146240.0000 - 3.2696) \t testing: 0.9140 (906008461312.0000 - 13.2377)\n",
      "epoch 70 - 100%) training: 0.9660 (41095199195136.0000 - 3.3192) \t testing: 0.9050 (10688792625152.0000 - 247.3894)\n",
      "epoch 71 - 100%) training: 0.9710 (136360019099648.0000 - 3.6318) \t testing: 0.9190 (59741032153088.0000 - 36.7340)\n",
      "epoch 72 - 100%) training: 0.9750 (19807529336832.0000 - 3.7956) \t testing: 0.9080 (7563736252416.0000 - 22.1089)\n",
      "epoch 73 - 100%) training: 0.9750 (426936526438400.0000 - 4.0045) \t testing: 0.9240 (1145199073951744.0000 - 35.3904)\n",
      "epoch 74 - 100%) training: 0.9750 (2261763869376512.0000 - 3.1178) \t testing: 0.9210 (1945422482374656.0000 - 26.7277)\n",
      "epoch 75 - 100%) training: 0.9770 (2865371325399040.0000 - 3.5082) \t testing: 0.9210 (1465174942810112.0000 - 30.3190)\n",
      "epoch 76 - 100%) training: 0.9720 (8927852418301952.0000 - 3.6262) \t testing: 0.9210 (1621450951753728.0000 - 66.2640)\n",
      "epoch 77 - 100%) training: 0.9740 (340449105543168.0000 - 3.5320) \t testing: 0.9270 (163655450624000.0000 - 132.1032)\n",
      "epoch 78 - 100%) training: 0.9760 (6048587410571264.0000 - 3.7671) \t testing: 0.9270 (786793985212416.0000 - 96.4585)\n",
      "epoch 79 - 100%) training: 0.9740 (33796440522227712.0000 - 3.5610) \t testing: 0.9200 (4925463663214592.0000 - 89.4497)\n",
      "epoch 80 - 100%) training: 0.9760 (7733940093714432.0000 - 2.9650) \t testing: 0.9270 (472380199665664.0000 - 99.1296)\n"
     ]
    },
    {
     "name": "stdout",
     "output_type": "stream",
     "text": [
      "epoch 81 - 100%) training: 0.9780 (6475125981446144.0000 - 3.0769) \t testing: 0.9240 (3965691480768512.0000 - 125.0651)\n",
      "epoch 82 - 100%) training: 0.9810 (20253053575757824.0000 - 3.1706) \t testing: 0.9280 (3803612836790272.0000 - 54.0122)\n",
      "epoch 83 - 100%) training: 0.9790 (10936510375264256.0000 - 3.0523) \t testing: 0.9190 (2459697705648128.0000 - 71.0883)\n",
      "epoch 84 - 100%) training: 0.9810 (2062435108257792.0000 - 3.7843) \t testing: 0.9190 (621395667058688.0000 - 57.3190)\n",
      "epoch 85 - 100%) training: 0.9740 (24520322627665920.0000 - 3.1433) \t testing: 0.9210 (45776401390895104.0000 - 56.5270)\n",
      "epoch 86 - 100%) training: 0.9750 (17896443675148288.0000 - 3.7772) \t testing: 0.9080 (14428238256275456.0000 - 42.8784)\n",
      "epoch 87 - 100%) training: 0.9800 (3618275065856000.0000 - 3.1105) \t testing: 0.9140 (6624332608438272.0000 - 73.7176)\n",
      "epoch 88 - 100%) training: 0.9800 (445918268620800.0000 - 3.5007) \t testing: 0.9150 (753813468217344.0000 - 147.4620)\n",
      "epoch 89 - 100%) training: 0.9780 (1777527915806720.0000 - 3.0783) \t testing: 0.9210 (1498234916700160.0000 - 63.9460)\n",
      "epoch 90 - 100%) training: 0.9820 (2851569716428800.0000 - 2.8750) \t testing: 0.9140 (4139637924691968.0000 - 57.9492)\n",
      "epoch 91 - 100%) training: 0.9840 (1220885792948224.0000 - 2.8063) \t testing: 0.9130 (8325641631956992.0000 - 42.8923)\n",
      "epoch 92 - 100%) training: 0.9830 (1698963166068736.0000 - 3.0339) \t testing: 0.9150 (5347232136036352.0000 - 84.2296)\n",
      "epoch 93 - 100%) training: 0.9870 (205878082928640.0000 - 2.7910) \t testing: 0.9230 (1138033592107008.0000 - 71.8747)\n",
      "epoch 94 - 100%) training: 0.9820 (1846413554089984.0000 - 3.0244) \t testing: 0.9200 (9802199848714240.0000 - 80.1687)\n",
      "epoch 95 - 100%) training: 0.9800 (655386642219008.0000 - 3.1772) \t testing: 0.9150 (645348431233024.0000 - 172.0358)\n",
      "epoch 96 - 100%) training: 0.9840 (23198071848435712.0000 - 3.0573) \t testing: 0.9220 (46807403995332608.0000 - 38.0746)\n",
      "epoch 97 - 100%) training: 0.9760 (30779644051456.0000 - 3.1224) \t testing: 0.9180 (194731720048640.0000 - 38.7697)\n",
      "epoch 98 - 100%) training: 0.9710 (4751173353472.0000 - 3.2101) \t testing: 0.9100 (138559520505856.0000 - 24.9048)\n",
      "epoch 99 - 100%) training: 0.9830 (770137430949888.0000 - 3.2537) \t testing: 0.9250 (2345371581808640.0000 - 34.7008)\n",
      "epoch 100 - 100%) training: 0.9820 (65001001425305600.0000 - 3.4510) \t testing: 0.9250 (33988427707842560.0000 - 160.1901)\n"
     ]
    }
   ],
   "source": [
    "bsize = 500 #batch size\n",
    "n_batches = 45349 // bsize\n",
    "\n",
    "for epoch in range(0,100):   \n",
    "    for i in range(n_batches):\n",
    "        \n",
    "        #data, label = mnist.train.next_batch(bsize)\n",
    "        data,label,_ = next_batch(x_train,y_train, i,bsize) \n",
    "        \n",
    "        feed_dict={X:data, Y:label}\n",
    "        # print(data.shape)\n",
    "        # print(label.shape)\n",
    "        sess.run(step,feed_dict) \n",
    "        print('epoch %d - %d%%) '% (epoch+1, (100*(i+1))//n_batches), end='\\r' if i<n_batches-1 else '')\n",
    " \n",
    "    train_acc, train_succ, train_fail = sess.run([acc,mean_ev_succ,mean_ev_fail], \n",
    "                                                  feed_dict={X:x_train[0:1000],Y:y_train[0:1000]})\n",
    "    test_acc, test_succ, test_fail = sess.run([acc,mean_ev_succ,mean_ev_fail], \n",
    "                                               feed_dict={X:x_test[0:1000],Y:y_test[0:1000]})\n",
    "    \n",
    "    L_train_acc1.append(train_acc)\n",
    "    L_train_ev_s.append(train_succ)\n",
    "    L_train_ev_f.append(train_fail)\n",
    "    \n",
    "    L_test_acc1.append(test_acc)\n",
    "    L_test_ev_s.append(test_succ)\n",
    "    L_test_ev_f.append(test_fail)\n",
    "    \n",
    "    print('training: %2.4f (%2.4f - %2.4f) \\t testing: %2.4f (%2.4f - %2.4f)' % \n",
    "          (train_acc, train_succ, train_fail, test_acc, test_succ, test_fail))"
   ]
  },
  {
   "cell_type": "markdown",
   "metadata": {
    "id": "MeacbdPjLmih"
   },
   "source": [
    "# Some generated fake images"
   ]
  },
  {
   "cell_type": "code",
   "execution_count": 24,
   "metadata": {
    "id": "ZjZDEH8Ay32h"
   },
   "outputs": [],
   "source": [
    "def get_image(data)\n",
    "    n = int(data.shape[0]**0.5)\n",
    "    m = int(np.ceil(data.shape[0]/n))\n",
    "    I = np.zeros((n*32,m*32,3))\n",
    "    # print(I.shape)\n",
    "    # print(data[0].shape)\n",
    "    for i in range(n):\n",
    "        for j in range(m):\n",
    "            I[i*32:(i+1)*32,j*32:(j+1)*32,:] = data[i*m+j].reshape(32,32,3)\n",
    "            # print(I)\n",
    "    # print(I.shape)\n",
    "    return I"
   ]
  },
  {
   "cell_type": "code",
   "execution_count": 25,
   "metadata": {
    "id": "Ln0OUxjIy32m"
   },
   "outputs": [
    {
     "name": "stderr",
     "output_type": "stream",
     "text": [
      "Clipping input data to the valid range for imshow with RGB data ([0..1] for floats or [0..255] for integers).\n"
     ]
    },
    {
     "data": {
      "text/plain": [
       "<matplotlib.image.AxesImage at 0x18fb8213e48>"
      ]
     },
     "execution_count": 25,
     "metadata": {},
     "output_type": "execute_result"
    },
    {
     "data": {
      "image/png": "[encoded data removed]",
      "text/plain": [
       "<Figure size 432x288 with 2 Axes>"
      ]
     },
     "metadata": {},
     "output_type": "display_data"
    }
   ],
   "source": [
    "org = get_image(x_test[100:108])\n",
    "fake = get_image(sess.run(X_fake, {X:x_test[100:108]}))\n",
    "plt.subplot(2,1,1)\n",
    "plt.xticks([])\n",
    "plt.yticks([])\n",
    "plt.imshow(org)\n",
    "\n",
    "plt.subplot(2,1,2)\n",
    "plt.xticks([])\n",
    "plt.yticks([])\n",
    "plt.imshow(fake)"
   ]
  },
  {
   "cell_type": "code",
   "execution_count": 26,
   "metadata": {
    "id": "MR-QtGrGy32o"
   },
   "outputs": [
    {
     "data": {
      "text/plain": [
       "[<matplotlib.lines.Line2D at 0x18fb825f160>]"
      ]
     },
     "execution_count": 26,
     "metadata": {},
     "output_type": "execute_result"
    },
    {
     "data": {
      "image/png": "[encoded data removed]",
      "text/plain": [
       "<Figure size 432x288 with 1 Axes>"
      ]
     },
     "metadata": {
      "needs_background": "light"
     },
     "output_type": "display_data"
    }
   ],
   "source": [
    "plt.plot(L_train_acc1)\n",
    "plt.plot(L_test_acc1)"
   ]
  },
  {
   "cell_type": "markdown",
   "metadata": {
    "id": "8-JSglc_LvSV"
   },
   "source": [
    "# Image Rotation Test"
   ]
  },
  {
   "cell_type": "code",
   "execution_count": 27,
   "metadata": {
    "id": "ed2HWQrDy32t"
   },
   "outputs": [],
   "source": [
    "# def roc_test(x_test=x_test[0:500], x_out=x_out[0:500]):\n",
    "#     normal = x_test\n",
    "#     anormal = x_out[:normal.shape[0]]\n",
    "#     truth = np.ones((normal.shape[0]+anormal.shape[0],))\n",
    "#     truth[normal.shape[0]:]=0\n",
    "#     imgs = np.concatenate((normal,anormal),0)\n",
    "#     ev = sess.run(evidence, feed_dict={X:imgs}).sum(1) \n",
    "\n",
    "#     fpr, tpr, roc_thresholds = roc_curve(truth, ev) \n",
    "#     roc_auc = auc(fpr, tpr)\n",
    "\n",
    "#     print('roc:',roc_auc)"
   ]
  },
  {
   "cell_type": "code",
   "execution_count": 28,
   "metadata": {
    "id": "vqT7I3y3y32v"
   },
   "outputs": [],
   "source": [
    "# roc_test()"
   ]
  },
  {
   "cell_type": "code",
   "execution_count": 29,
   "metadata": {
    "id": "Xw2Q79fNy32x"
   },
   "outputs": [],
   "source": [
    "# rotating_image_classification(x_train[5], sess, prob, X, None, u, prob_threshold=0.2)"
   ]
  },
  {
   "cell_type": "markdown",
   "metadata": {
    "id": "dAjqcbpeKrhf"
   },
   "source": [
    "# Entropy as Predictive Uncertainy (correct vs wrong predictions)"
   ]
  },
  {
   "cell_type": "code",
   "execution_count": 30,
   "metadata": {
    "id": "MkvDo0jpy322"
   },
   "outputs": [],
   "source": [
    "test_acc, ev = sess.run([acc,evidence], feed_dict={X:x_test[0:1000],Y:y_test[0:1000]})"
   ]
  },
  {
   "cell_type": "code",
   "execution_count": 31,
   "metadata": {
    "id": "ztENACNBy325"
   },
   "outputs": [],
   "source": [
    "match = (ev.argmax(1)==y_test[0:1000].argmax(1)) \n",
    "succ_ev = ev[match]\n",
    "fail_ev = ev[(1-match).astype(bool)]\n",
    "\n",
    "# u_succ = 10/(10+succ_ev.sum(1))\n",
    "# u_fail = 10/(10+fail_ev.sum(1))\n",
    "\n",
    "p_succ = (succ_ev+1)/(10+succ_ev.sum(1,keepdims=True))\n",
    "p_fail = (fail_ev+1)/(10+fail_ev.sum(1,keepdims=True))"
   ]
  },
  {
   "cell_type": "code",
   "execution_count": 32,
   "metadata": {
    "id": "OpKRxUIRy328"
   },
   "outputs": [],
   "source": [
    "# plt.hist(calc_entropy(p_fail))"
   ]
  },
  {
   "cell_type": "code",
   "execution_count": 33,
   "metadata": {
    "id": "ZYB6CJAgy32-"
   },
   "outputs": [],
   "source": [
    "# plt.hist(calc_entropy(p_succ))"
   ]
  },
  {
   "cell_type": "markdown",
   "metadata": {
    "id": "3EwDN6LuL5hj"
   },
   "source": [
    "# Subjective Logic's Uncertainty (K/S)"
   ]
  },
  {
   "cell_type": "code",
   "execution_count": 34,
   "metadata": {
    "id": "gj93Me9iy33C"
   },
   "outputs": [],
   "source": [
    "# a_=plt.hist(u_succ, bins='auto')"
   ]
  },
  {
   "cell_type": "code",
   "execution_count": 35,
   "metadata": {
    "id": "mxkCJfT4y33F"
   },
   "outputs": [],
   "source": [
    "# a_=plt.hist(u_fail, bins='auto')"
   ]
  },
  {
   "cell_type": "markdown",
   "metadata": {
    "id": "bDN0Yz1eb0KZ"
   },
   "source": [
    "# Emprical PDF for Entropy for Out-of-Distribution (OoD) Samples"
   ]
  },
  {
   "cell_type": "code",
   "execution_count": 36,
   "metadata": {
    "id": "5rPFvTJ3y33I"
   },
   "outputs": [],
   "source": [
    "p_OoD=sess.run(prob, feed_dict={X:OoD[0:1000].reshape(-1,32*32*3)})"
   ]
  },
  {
   "cell_type": "code",
   "execution_count": 37,
   "metadata": {
    "id": "10d0HAs1y33J"
   },
   "outputs": [],
   "source": [
    "def entropy(p):\n",
    "    return (-p*np.log(p+1e-8)).sum(1) "
   ]
  },
  {
   "cell_type": "code",
   "execution_count": 38,
   "metadata": {
    "id": "C8PCRJ1Qy33L"
   },
   "outputs": [],
   "source": [
    "def empCDF(entropy,n=5): \n",
    "    x = np.linspace(0,np.log(n), 1000)\n",
    "    y = np.zeros_like(x)\n",
    "    for i, val in enumerate(x): \n",
    "        y[i] = np.mean(entropy<=val)\n",
    "    return entropy, x,y"
   ]
  },
  {
   "cell_type": "code",
   "execution_count": 39,
   "metadata": {
    "id": "bJcNub-ly33N"
   },
   "outputs": [],
   "source": [
    "_,x,y=empCDF(entropy(p_OoD))"
   ]
  },
  {
   "cell_type": "code",
   "execution_count": 40,
   "metadata": {
    "id": "z1sTyUg3y33R"
   },
   "outputs": [
    {
     "data": {
      "text/plain": [
       "[<matplotlib.lines.Line2D at 0x18ff64f7828>]"
      ]
     },
     "execution_count": 40,
     "metadata": {},
     "output_type": "execute_result"
    },
    {
     "data": {
      "image/png": "[encoded data removed]",
      "text/plain": [
       "<Figure size 432x288 with 1 Axes>"
      ]
     },
     "metadata": {
      "needs_background": "light"
     },
     "output_type": "display_data"
    }
   ],
   "source": [
    "plt.plot(x,y)"
   ]
  },
  {
   "cell_type": "markdown",
   "metadata": {
    "id": "r-3QP_eUcJYd"
   },
   "source": [
    "# Emprical PDF for Entropy for correct and wrong predictions"
   ]
  },
  {
   "cell_type": "code",
   "execution_count": 41,
   "metadata": {
    "id": "5yZphs5vy33U"
   },
   "outputs": [],
   "source": [
    "_,x1,y1=empCDF(entropy(p_succ))"
   ]
  },
  {
   "cell_type": "code",
   "execution_count": 42,
   "metadata": {
    "id": "H9Yv41Umy33X"
   },
   "outputs": [
    {
     "data": {
      "text/plain": [
       "(0, 1)"
      ]
     },
     "execution_count": 42,
     "metadata": {},
     "output_type": "execute_result"
    },
    {
     "data": {
      "image/png": "[encoded data removed]",
      "text/plain": [
       "<Figure size 432x288 with 1 Axes>"
      ]
     },
     "metadata": {
      "needs_background": "light"
     },
     "output_type": "display_data"
    }
   ],
   "source": [
    "_,x2,y2=empCDF(entropy(p_fail))\n",
    "plt.plot(x1,y1)\n",
    "plt.plot(x2,y2)\n",
    "plt.xlim([0,np.log(5)])\n",
    "plt.ylim([0,1])"
   ]
  },
  {
   "cell_type": "markdown",
   "metadata": {
    "id": "b0vVvCvhcl5q"
   },
   "source": [
    "# OoD Detection using Entropy of Predictions"
   ]
  },
  {
   "cell_type": "code",
   "execution_count": 43,
   "metadata": {
    "id": "xO0m1baby33d"
   },
   "outputs": [],
   "source": [
    "normal = x_test[0:500]\n",
    "anormal = OoD[0:500].reshape(-1,32*32*3)\n",
    "\n",
    "truth = np.ones((normal.shape[0]+anormal.shape[0],))\n",
    "truth[normal.shape[0]:]=0\n",
    "imgs = np.concatenate((normal,anormal),0)"
   ]
  },
  {
   "cell_type": "code",
   "execution_count": 44,
   "metadata": {
    "id": "a5j69J0iy33e"
   },
   "outputs": [],
   "source": [
    "ev = sess.run(evidence, feed_dict={X:imgs})"
   ]
  },
  {
   "cell_type": "code",
   "execution_count": 45,
   "metadata": {
    "id": "Gik_g5ify33g"
   },
   "outputs": [],
   "source": [
    "from sklearn.metrics import roc_curve, precision_recall_curve, auc\n",
    "\n",
    "fpr, tpr, roc_thresholds = roc_curve(truth, ev.sum(1))\n",
    "roc_auc = auc(fpr, tpr)"
   ]
  },
  {
   "cell_type": "code",
   "execution_count": 46,
   "metadata": {
    "id": "9U9zal27y33k"
   },
   "outputs": [
    {
     "data": {
      "text/plain": [
       "0.7842560000000001"
      ]
     },
     "execution_count": 46,
     "metadata": {},
     "output_type": "execute_result"
    }
   ],
   "source": [
    "roc_auc"
   ]
  },
  {
   "cell_type": "code",
   "execution_count": 47,
   "metadata": {
    "id": "OtdgPMjey33o",
    "scrolled": false
   },
   "outputs": [
    {
     "data": {
      "text/plain": [
       "[<matplotlib.lines.Line2D at 0x18ff65bebe0>]"
      ]
     },
     "execution_count": 47,
     "metadata": {},
     "output_type": "execute_result"
    },
    {
     "data": {
      "image/png": "[encoded data removed]",
      "text/plain": [
       "<Figure size 432x288 with 1 Axes>"
      ]
     },
     "metadata": {
      "needs_background": "light"
     },
     "output_type": "display_data"
    }
   ],
   "source": [
    "plt.plot(fpr,tpr)"
   ]
  },
  {
   "cell_type": "code",
   "execution_count": 48,
   "metadata": {
    "id": "Nfkp_YiNy33p"
   },
   "outputs": [],
   "source": [
    "np.savez('results/SVHN_ACC_wgan.npz', L_train_acc1,L_test_acc1)\n",
    "np.savez('results/SVHN_ROC_wgan.npz', fpr,tpr)\n",
    "np.savez('results/SVHN_p_succ_fail_wgan.npz', x1,y1,x2,y2)\n",
    "np.savez('results/SVHN_entropy_wgan',x,y)\n",
    "np.savez('results/SVHN_images_wgan.npz', org,fake)"
   ]
  },
  {
   "cell_type": "code",
   "execution_count": null,
   "metadata": {
    "id": "E3JWrt6s0s_1"
   },
   "outputs": [],
   "source": []
  }
 ],
 "metadata": {
  "accelerator": "GPU",
  "colab": {
   "collapsed_sections": [],
   "name": "gen_Cifar100.ipynb",
   "provenance": []
  },
  "kernelspec": {
   "display_name": "Python 3",
   "language": "python",
   "name": "python3"
  },
  "language_info": {
   "codemirror_mode": {
    "name": "ipython",
    "version": 3
   },
   "file_extension": ".py",
   "mimetype": "text/x-python",
   "name": "python",
   "nbconvert_exporter": "python",
   "pygments_lexer": "ipython3",
   "version": "3.7.0"
  }
 },
 "nbformat": 4,
 "nbformat_minor": 1
}
